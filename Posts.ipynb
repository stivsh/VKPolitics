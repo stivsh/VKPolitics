{
 "cells": [
  {
   "cell_type": "code",
   "execution_count": 210,
   "metadata": {},
   "outputs": [],
   "source": [
    "import vk\n",
    "import re\n",
    "import datetime\n",
    "import os\n",
    "\n",
    "token_re=re.compile('access_token=([0-9a-z]+)')\n",
    "user_id_re=re.compile('user_id=([0-9]+)')\n",
    "\n",
    "def parce_uri(uri):\n",
    "    match_tok=re.search(token_re,uri)\n",
    "    match_us_id=re.search(user_id_re,uri)\n",
    "    if match_tok and match_us_id:\n",
    "        return match_us_id.group(1),match_tok.group(1)\n",
    "    else:\n",
    "        raise exceptions.KeyError(uri)\n",
    "\n",
    "test_uri=\"https://oauth.vk.com/blank.html#access_token=581a17b2c4cba7fbcd12e073156d3053993972ea5679adf6244b3b5ad5a099aa265b6e343eec128d6e1ea&expires_in=86400&user_id=4061100\"\n",
    "user_id,token=parce_uri(test_uri)\n",
    "api = vk.API(access_token=token)"
   ]
  },
  {
   "cell_type": "code",
   "execution_count": 211,
   "metadata": {},
   "outputs": [],
   "source": [
    "def load_posts(api,domain,max_items = 500):\n",
    "    offset=0\n",
    "    not_empty_response=True\n",
    "    items = []\n",
    "    \n",
    "    while not_empty_response and len(items) < max_items:\n",
    "        try:\n",
    "            response = api('wall.get', domain=domain,count=100,offset=offset)\n",
    "            if 'items' in response:\n",
    "                items += response['items']\n",
    "                offset += 100\n",
    "            else:\n",
    "                not_empty_response = False\n",
    "        except Exception,e:\n",
    "            try:\n",
    "                print str(e)\n",
    "            except:\n",
    "                pass\n",
    "            time.sleep(2)\n",
    "        if len(items)%200 == 0: print len(items)\n",
    "    \n",
    "    return [ {'post_id':i['id'],'owner_id':i['owner_id'],'text':i['text'],'date':i['date']} for i in items ]\n",
    "\n",
    "def make_two_try_and_deleys(fn):\n",
    "    def wrapper(*params,**named_params):\n",
    "        time.sleep(1)  \n",
    "        try:\n",
    "            return fn(*params,**named_params)\n",
    "        except Exception,e:\n",
    "            print str(e)\n",
    "            time.sleep(2)\n",
    "            try:\n",
    "                return fn(*params,**named_params)\n",
    "            except Exception,e:\n",
    "                print \"second error\"\n",
    "        return []\n",
    "    return wrapper\n",
    "    \n",
    "@make_two_try_and_deleys    \n",
    "def load_comments(api,owner_id,post_id):\n",
    "    response = api('wall.getComments', owner_id=owner_id,post_id=post_id,count=1000)\n",
    "    return [ {\"id\":i[\"id\"],\"from_id\":i[\"from_id\"],'date':i['date'],\"text\":i[\"text\"]} for i in response['items'] if i[\"text\"] != '' ]    \n",
    "    \n",
    "@make_two_try_and_deleys    \n",
    "def load_reposts(api,owner_id,post_id):\n",
    "    response = api('wall.getReposts', owner_id=owner_id,post_id=post_id,count=1000)\n",
    "    return [ {\"post_id\":i[\"id\"],\"owner_id\":i[\"to_id\"],'date':i['date'],\"text\":i[\"text\"]} for i in response[\"items\"] ]\n",
    "\n",
    "@make_two_try_and_deleys\n",
    "def get_followers_count(api,owner_id): \n",
    "    response = []\n",
    "    if owner_id<0:\n",
    "        response = api('groups.getMembers', group_id=-1*owner_id,count=0)    \n",
    "    else:\n",
    "        response = api('users.getFollowers', user_id=owner_id,count=0)\n",
    "    \n",
    "    return [ response['count'] ]"
   ]
  },
  {
   "cell_type": "code",
   "execution_count": 212,
   "metadata": {},
   "outputs": [],
   "source": [
    "class Post:\n",
    "    def __init__(self, post_id,owner_id, text,date):\n",
    "        self.date = datetime.datetime.fromtimestamp(int(date))\n",
    "        self.post_id = post_id\n",
    "        self.owner_id = owner_id\n",
    "        self.text = text\n",
    "        self.reposts = []\n",
    "        self.comments = []\n",
    "        self.follower_count = 0\n",
    "        \n",
    "        self.reposts_loaded = False\n",
    "        \n",
    "        self.comments_loaded = False\n",
    "    \n",
    "    def load_follower_count(self,api):\n",
    "        self.follower_count = get_followers_count(api,self.owner_id)\n",
    "        if len(self.follower_count):\n",
    "            self.follower_count = self.follower_count[0]\n",
    "        else:\n",
    "            self.follower_count = 0\n",
    "            \n",
    "    def load_reposts(self,api):\n",
    "        if self.reposts_loaded: return\n",
    "        self.reposts = [ Post(**raw_data) for raw_data in load_reposts(api,self.owner_id,self.post_id) ]\n",
    "        \n",
    "        self.reposts_loaded = True\n",
    "        \n",
    "    def load_comments(self,api):\n",
    "        if self.comments_loaded: return\n",
    "        self.comments = load_comments(api,self.owner_id,self.post_id)\n",
    "        self.comments_loaded = True"
   ]
  },
  {
   "cell_type": "code",
   "execution_count": 213,
   "metadata": {},
   "outputs": [],
   "source": [
    "def group_posts(api,group_name):\n",
    "    \n",
    "    def load_repost_tree(api,post):\n",
    "        post_queue = [post]\n",
    "        while len(post_queue):\n",
    "            post_to_load = post_queue[0]\n",
    "            post_to_load.load_reposts(api)\n",
    "            post_to_load.load_follower_count(api)\n",
    "            post_queue = post_queue[1:] + post_to_load.reposts\n",
    "            \n",
    "    file_name = \"vkdata/%s_posts.pkl\" % group_name\n",
    "    if os.path.isfile(file_name):\n",
    "        return pickle.load(open(file_name,\"r\"))\n",
    "    else:\n",
    "        posts = [ Post(**raw_data) for raw_data in load_posts(api,group_name) ]\n",
    "        print \"%s: post loaded\"%(len(posts))\n",
    "        for inx,post in enumerate(posts):\n",
    "            post.load_follower_count(api)\n",
    "            post.load_comments(api)\n",
    "            load_repost_tree(api,post)\n",
    "            load_persent = ( 1.*inx/len(posts) * 100)\n",
    "            if load_persent % 10 == 0 :\n",
    "                print \"load %s persent\" % load_persent\n",
    "        pickle.dump(posts,open(file_name,\"w\"))\n",
    "        print \"%s posts loaded\" % file_name\n",
    "        return posts\n",
    "    "
   ]
  },
  {
   "cell_type": "code",
   "execution_count": null,
   "metadata": {},
   "outputs": [],
   "source": [
    "rrp_posts = group_posts(api,\"realproblemsrussia\")"
   ]
  },
  {
   "cell_type": "code",
   "execution_count": 214,
   "metadata": {},
   "outputs": [],
   "source": [
    "def next_reposts_lavel(reposts_list):\n",
    "    reposts = []\n",
    "    for r in reposts_list:\n",
    "        reposts+=r.reposts\n",
    "    return reposts, sum([ r.follower_count for r in reposts ])\n",
    "    "
   ]
  },
  {
   "cell_type": "code",
   "execution_count": 215,
   "metadata": {},
   "outputs": [
    {
     "name": "stdout",
     "output_type": "stream",
     "text": [
      "#Пожары #Бюджет #Покемоны\n",
      "\n",
      "Как чиновники продолжают заниматься хернёй и покемонами, пока бюджет стелется дымом над Россией. Об этом в новом видео\n",
      "\n",
      "https://www.youtube.com/watch?v=ApQrY3JaHsY\n"
     ]
    }
   ],
   "source": [
    "print rrp_posts[0].text\n",
    "rrp_posts[0].reposts_loaded = False\n",
    "rrp_posts[0].load_reposts(api)"
   ]
  },
  {
   "cell_type": "code",
   "execution_count": 256,
   "metadata": {},
   "outputs": [],
   "source": [
    "def load_repost_tree(api,post):\n",
    "    post_queue = [post]\n",
    "    while len(post_queue):\n",
    "        post_to_load = post_queue[0]\n",
    "        post_to_load.load_reposts(api)\n",
    "        post_to_load.load_follower_count(api)\n",
    "        post_queue = post_queue[1:] + post_to_load.reposts\n",
    "i=2\n",
    "rrp_posts[i].reposts = []\n",
    "rrp_posts[i].reposts_loaded = False\n",
    "load_repost_tree(api,rrp_posts[i])"
   ]
  },
  {
   "cell_type": "code",
   "execution_count": 258,
   "metadata": {},
   "outputs": [
    {
     "name": "stdout",
     "output_type": "stream",
     "text": [
      "#Стройка #Убийство #Власти #Полиция\n",
      "\n",
      "Увлекательная история о том, как власти города в России готовы убить десятки людей, но построить элитный комплекс. В новом видео\n",
      "\n",
      "https://www.youtube.com/watch?v=_BWadH1KJyY\n",
      "-95317319\n",
      "61213\n",
      "21\n"
     ]
    }
   ],
   "source": [
    "i=2\n",
    "print rrp_posts[i].text\n",
    "print rrp_posts[i].owner_id\n",
    "print rrp_posts[i].post_id\n",
    "print len(rrp_posts[i].reposts)"
   ]
  },
  {
   "cell_type": "code",
   "execution_count": 199,
   "metadata": {},
   "outputs": [
    {
     "name": "stdout",
     "output_type": "stream",
     "text": [
      "[<__main__.Post instance at 0x7f9388176cf8>]\n"
     ]
    },
    {
     "data": {
      "text/plain": [
       "([], 0.0)"
      ]
     },
     "execution_count": 199,
     "metadata": {},
     "output_type": "execute_result"
    }
   ],
   "source": [
    "\n",
    "r,fols = next_reposts_lavel(rrp_posts[19].reposts)\n",
    "next_reposts_lavel(r)"
   ]
  },
  {
   "cell_type": "code",
   "execution_count": 149,
   "metadata": {},
   "outputs": [
    {
     "ename": "IndexError",
     "evalue": "list index out of range",
     "output_type": "error",
     "traceback": [
      "\u001b[0;31m---------------------------------------------------------------------------\u001b[0m\n\u001b[0;31mIndexError\u001b[0m                                Traceback (most recent call last)",
      "\u001b[0;32m<ipython-input-149-c7f013923d84>\u001b[0m in \u001b[0;36m<module>\u001b[0;34m()\u001b[0m\n\u001b[0;32m----> 1\u001b[0;31m \u001b[0;32mprint\u001b[0m \u001b[0mrrp_posts\u001b[0m\u001b[0;34m[\u001b[0m\u001b[0;36m2\u001b[0m\u001b[0;34m]\u001b[0m\u001b[0;34m.\u001b[0m\u001b[0mreposts\u001b[0m\u001b[0;34m[\u001b[0m\u001b[0;36m3\u001b[0m\u001b[0;34m]\u001b[0m\u001b[0;34m.\u001b[0m\u001b[0mreposts\u001b[0m\u001b[0;34m[\u001b[0m\u001b[0;36m0\u001b[0m\u001b[0;34m]\u001b[0m\u001b[0;34m.\u001b[0m\u001b[0mowner_id\u001b[0m\u001b[0;34m\u001b[0m\u001b[0m\n\u001b[0m",
      "\u001b[0;31mIndexError\u001b[0m: list index out of range"
     ]
    }
   ],
   "source": [
    "reposts_per_level = {}\n",
    "reposts_per_level[0] = [ r.reposts for r post in rrp_posts ]"
   ]
  },
  {
   "cell_type": "code",
   "execution_count": null,
   "metadata": {},
   "outputs": [],
   "source": [
    "\n",
    "nod_posts = group_posts(api,\"rusnod\")\n",
    "ros_posts = group_posts(api,\"rospil\")\n",
    "star_posts = group_posts(api,\"nstarikov_club\")"
   ]
  },
  {
   "cell_type": "code",
   "execution_count": null,
   "metadata": {},
   "outputs": [],
   "source": [
    "\n",
    "\n",
    "\n",
    "def load_all_comments_reposts(post_list):\n",
    "    comments = {}\n",
    "    reposts = {}\n",
    "    for inx in range(len(post_list)):\n",
    "        post = post_list[inx]\n",
    "        if inx%9==0: time.sleep(2)\n",
    "        if inx%100==0: print inx\n",
    "        error_ocured = True\n",
    "        while error_ocured:\n",
    "            try:\n",
    "                comments.update(load_comments(post[\"owner_id\"],post[\"id\"])) \n",
    "                reposts.update(load_reposts(post[\"owner_id\"],post[\"id\"]))\n",
    "                error_ocured = False\n",
    "            except Exception,e:\n",
    "                try:\n",
    "                    print str(e)\n",
    "                except:\n",
    "                    pass\n",
    "                    \n",
    "                time.sleep(3)\n",
    "            \n",
    "    return comments,reposts\n",
    "\n",
    "def get_all_posts_and_comments(group_name):\n",
    "    file_name = \"vkdata/%s_posts.pkl\" % group_name\n",
    "    if os.path.isfile(file_name):\n",
    "        return pickle.load(open(file_name,\"r\"))\n",
    "    else:\n",
    "        posts = load_posts(group_name,1000)\n",
    "        comments,resposts = load_all_comments_reposts(posts)\n",
    "        pickle.dump({'posts':posts,'comments':comments,'resposts':resposts},open(file_name,\"w\"))\n",
    "        print \"%s posts loaded\" % file_name\n",
    "        return {'posts':posts,'comments':comments,'resposts':resposts}"
   ]
  },
  {
   "cell_type": "code",
   "execution_count": 3,
   "metadata": {},
   "outputs": [],
   "source": [
    "rrp_posts = get_all_posts_and_comments(\"realproblemsrussia\")\n",
    "nod_posts = get_all_posts_and_comments(\"rusnod\")\n",
    "ros_posts = get_all_posts_and_comments(\"rospil\")\n",
    "star_posts = get_all_posts_and_comments(\"nstarikov_club\")"
   ]
  },
  {
   "cell_type": "code",
   "execution_count": 27,
   "metadata": {},
   "outputs": [
    {
     "name": "stdout",
     "output_type": "stream",
     "text": [
      "{'text': u'#\\u041d\\u0438\\u0448\\u0435\\u0442\\u0430 #\\u0414\\u0435\\u043d\\u044c\\u0433\\u0438 #\\u041f\\u0440\\u043e\\u0434\\u0443\\u043a\\u0442\\u044b\\n\\n\\u0421\\u0432\\u0435\\u0436\\u0438\\u0435 \\u0432\\u043a\\u0443\\u0441\\u043d\\u044b\\u0435 \\u043d\\u043e\\u0432\\u043e\\u0441\\u0442\\u0438 \\u0443\\u0436\\u0435 \\u0442\\u0443\\u0442! \\u041e \\u043b\\u044e\\u0431\\u0438\\u043c\\u044b\\u0445 \\u043b\\u0430\\u043a\\u043e\\u043c\\u0441\\u0442\\u0432\\u0430\\u0445  \\u0436\\u0438\\u0442\\u0435\\u043b\\u0435\\u0439 \\u0420\\u043e\\u0441\\u0441\\u0438\\u0438, \\u043e \\u043f\\u043e\\u0438\\u0441\\u043a\\u0430\\u0445 \\u0435\\u0434\\u0435 \\u043d\\u0430 \\u043f\\u043e\\u043c\\u043e\\u0439\\u043a\\u0435 \\u0438 \\u0433\\u043d\\u0438\\u044e\\u0449\\u0435\\u043c \\u0445\\u043b\\u0435\\u0431\\u0435 \\u0432 \\u043d\\u043e\\u0432\\u043e\\u043c \\u0432\\u0438\\u0434\\u0435\\u043e\\n\\nhttps://www.youtube.com/watch?v=7TSTv0OMj20', 'id': 60040, 'owner_id': -95317319}\n",
      "[u'attachments', u'copy_history', u'text', u'comments', u'to_id', u'post_type', u'likes', u'date', u'from_id', u'id', u'reposts']\n"
     ]
    },
    {
     "data": {
      "text/plain": [
       "251235062"
      ]
     },
     "execution_count": 27,
     "metadata": {},
     "output_type": "execute_result"
    }
   ],
   "source": [
    "print rrp_posts['posts'][1]\n",
    "print rrp_posts['resposts'][60040][0].keys()\n",
    "rrp_posts['resposts'][60040][0]['to_id']"
   ]
  },
  {
   "cell_type": "code",
   "execution_count": 17,
   "metadata": {},
   "outputs": [
    {
     "data": {
      "text/plain": [
       "{'id': 60040,\n",
       " 'owner_id': -95317319,\n",
       " 'text': u'#\\u041d\\u0438\\u0448\\u0435\\u0442\\u0430 #\\u0414\\u0435\\u043d\\u044c\\u0433\\u0438 #\\u041f\\u0440\\u043e\\u0434\\u0443\\u043a\\u0442\\u044b\\n\\n\\u0421\\u0432\\u0435\\u0436\\u0438\\u0435 \\u0432\\u043a\\u0443\\u0441\\u043d\\u044b\\u0435 \\u043d\\u043e\\u0432\\u043e\\u0441\\u0442\\u0438 \\u0443\\u0436\\u0435 \\u0442\\u0443\\u0442! \\u041e \\u043b\\u044e\\u0431\\u0438\\u043c\\u044b\\u0445 \\u043b\\u0430\\u043a\\u043e\\u043c\\u0441\\u0442\\u0432\\u0430\\u0445  \\u0436\\u0438\\u0442\\u0435\\u043b\\u0435\\u0439 \\u0420\\u043e\\u0441\\u0441\\u0438\\u0438, \\u043e \\u043f\\u043e\\u0438\\u0441\\u043a\\u0430\\u0445 \\u0435\\u0434\\u0435 \\u043d\\u0430 \\u043f\\u043e\\u043c\\u043e\\u0439\\u043a\\u0435 \\u0438 \\u0433\\u043d\\u0438\\u044e\\u0449\\u0435\\u043c \\u0445\\u043b\\u0435\\u0431\\u0435 \\u0432 \\u043d\\u043e\\u0432\\u043e\\u043c \\u0432\\u0438\\u0434\\u0435\\u043e\\n\\nhttps://www.youtube.com/watch?v=7TSTv0OMj20'}"
      ]
     },
     "execution_count": 17,
     "metadata": {},
     "output_type": "execute_result"
    }
   ],
   "source": [
    "rrp_posts['posts'][1]\n",
    "\n",
    "        \n",
    "        \n"
   ]
  },
  {
   "cell_type": "code",
   "execution_count": 88,
   "metadata": {},
   "outputs": [],
   "source": [
    "def reposters_pmf(reposts):\n",
    "    all_reposters_ids = sum([ [repost['to_id'] for repost in reposts_of_post] for reposts_of_post in reposts ])\n",
    "    reposters_pmf = {}\n",
    "    for id in all_reposters_ids:\n",
    "        reposters_pmf[id] = reposters_pmf.get(id,0)+1\n",
    "    total_reposts = sum([ x for x in reposters_pmf.values() ])\n",
    "    reposters_pmf = { key:1.0*val/total_reposts for key,val in reposters_pmf.iteritems() }\n",
    "    return reposters_pmf\n",
    "\n",
    "def top_reposters_in_30_persent(reposters_pmf):\n",
    "    retosters_and_repost_persent = sorted([ (key,val) for key,val in reposters_pmf.iteritems() ], key=lambda x:-x[1])\n",
    "    top_reposters = []\n",
    "    reposts_persent = 0\n",
    "    for reposter,persent in retosters_and_repost_persent:\n",
    "        top_reposters.append(reposter)\n",
    "        reposts_persent += persent\n",
    "        if reposts_persent > 0.3: break\n",
    "    return top_reposters\n",
    "    "
   ]
  },
  {
   "cell_type": "code",
   "execution_count": null,
   "metadata": {},
   "outputs": [],
   "source": [
    "len(star_posts['resposts'].keys())"
   ]
  },
  {
   "cell_type": "code",
   "execution_count": 89,
   "metadata": {},
   "outputs": [],
   "source": [
    "import numpy as np\n",
    "import matplotlib.mlab as mlab\n",
    "import matplotlib.pyplot as plt\n",
    "\n",
    "\n",
    "def get_plots(count,figsize=(11,8),layout=None):\n",
    "    if layout is None:\n",
    "        layout=(count,1)\n",
    "    fig = plt.figure(figsize=figsize)\n",
    "    return [fig]+[ fig.add_subplot(layout[0],layout[1],i+1) for i in range(count) ] "
   ]
  },
  {
   "cell_type": "code",
   "execution_count": 90,
   "metadata": {},
   "outputs": [],
   "source": [
    "p=reposters_pmf(rrp_posts['resposts'].values())"
   ]
  },
  {
   "cell_type": "code",
   "execution_count": 94,
   "metadata": {},
   "outputs": [
    {
     "data": {
      "image/png": "[encoded data removed]",
      "text/plain": [
       "<matplotlib.figure.Figure at 0x7fae599bd2d0>"
      ]
     },
     "metadata": {},
     "output_type": "display_data"
    }
   ],
   "source": [
    "#rrp_posts = get_all_posts_and_comments(\"realproblemsrussia\")\n",
    "#nod_posts = get_all_posts_and_comments(\"rusnod\")\n",
    "#ros_posts = get_all_posts_and_comments(\"rospil\")\n",
    "#star_posts = get_all_posts_and_comments(\"nstarikov_club\")\n",
    "\n",
    "fig,p1,p2,p3,p4 = get_plots(4,figsize=(12,8),layout=(2,2))\n",
    "for p in [ (p1,\"RialRusProb\",\"b\",rrp_posts),(p2,\"Rospil\",\"g\",ros_posts),(p3,\"NOD\",\"r\",nod_posts),(p4,\"Starikov\",\"m\",star_posts) ]:\n",
    "    pmf = reposters_pmf(p[3]['resposts'].values())\n",
    "    top_30 = top_reposters_in_30_persent(pmf)\n",
    "    title = \"%s : top count%s count%s persent%s\"%(p[1],len(top_30),len(pmf),1.0*len(top_30)/len(pmf))\n",
    "    \n",
    "    p[0].set_title(title)\n",
    "    p[0].set_ylabel('count')\n",
    "    p[0].set_xlabel('%')\n",
    "    \n",
    "    p[0].hist([ v for k,v in pmf.iteritems() if k in  top_30 ],facecolor=p[2], alpha=0.75)\n",
    "fig.tight_layout()\n",
    "plt.show()\n"
   ]
  },
  {
   "cell_type": "code",
   "execution_count": null,
   "metadata": {},
   "outputs": [],
   "source": []
  },
  {
   "cell_type": "code",
   "execution_count": null,
   "metadata": {},
   "outputs": [],
   "source": [
    "len(top_reposters_with_03_persent)"
   ]
  },
  {
   "cell_type": "code",
   "execution_count": null,
   "metadata": {},
   "outputs": [],
   "source": [
    "#text process functions\n",
    "from nltk.corpus import stopwords\n",
    "import string\n",
    "import re\n",
    "from nltk.stem.snowball import SnowballStemmer\n",
    "stemmer = SnowballStemmer(\"russian\")\n",
    "stopwords = stopwords.words('russian')\n",
    "remove_digits = lambda s: \"\".join(\" \" if c in string.digits  else c for c in s)\n",
    "remove_punct = lambda s: \"\".join(\" \" if c in string.punctuation + u'\\u2014' + u'\\u2013'  else c for c in s)\n",
    "remove_space = lambda s: \" \".join(\"\".join(\" \" if c in string.whitespace else c for c in s).strip(' ').split())\n",
    "stem = lambda s: stemmer.stem(s.lower())\n",
    "full_clean = lambda s: stem(remove_space(remove_punct(s)))\n",
    "\n",
    "\n",
    "links_re = re.compile(r'((http[s]?|ftp):\\/)?\\/?([^:\\/\\s]+)((\\/\\w+)*\\/)([\\w\\-\\.]+[^#?\\s]+)([^\\s]*)?')\n",
    "def remove_links(text):\n",
    "    return re.sub(links_re, '', text)\n",
    "\n",
    "def words_distribution_of_texts(texts):\n",
    "    words_friq_dist = {}\n",
    "    for text in texts:\n",
    "        text = remove_links(text)\n",
    "        text = full_clean(remove_digits(text))\n",
    "        words = text.split()\n",
    "        for word in words:\n",
    "            if word in words_friq_dist: words_friq_dist[word] += 1\n",
    "            else: words_friq_dist[word] = 1\n",
    "    return sorted([(k,words_friq_dist[k]) for k in words_friq_dist.keys() if k not in stopwords ],key=lambda x:x[1] )\n",
    "     \n",
    "        "
   ]
  },
  {
   "cell_type": "code",
   "execution_count": null,
   "metadata": {},
   "outputs": [],
   "source": []
  },
  {
   "cell_type": "code",
   "execution_count": null,
   "metadata": {},
   "outputs": [],
   "source": [
    "rrp_wd = words_distribution_of_texts([ post['text'] for post in rrp_posts[1] ])\n",
    "nod_wd = words_distribution_of_texts([ post['text'] for post in nod_posts[1] ])\n",
    "ros_wd = words_distribution_of_texts([ post['text'] for post in ros_posts[1] ])\n",
    "star_wd = words_distribution_of_texts([ post['text'] for post in star_posts[1] ])"
   ]
  },
  {
   "cell_type": "code",
   "execution_count": null,
   "metadata": {},
   "outputs": [],
   "source": [
    "print rrp_posts[1][191][\"text\"]"
   ]
  },
  {
   "cell_type": "code",
   "execution_count": null,
   "metadata": {},
   "outputs": [],
   "source": [
    "star_ids_set = set(nf_star_ids)\n",
    "star_comments = [ x['text'] for x in rrp_posts[1] if x[\"from_id\"] in star_ids_set ]\n",
    "for x in star_comments[:125]: print x"
   ]
  },
  {
   "cell_type": "code",
   "execution_count": null,
   "metadata": {},
   "outputs": [],
   "source": [
    "import string\n",
    "from nltk.stem.snowball import SnowballStemmer\n",
    "stemmer = SnowballStemmer(\"russian\")\n",
    "remove_punct = lambda s: \"\".join(\" \" if c in string.punctuation else c for c in s)\n",
    "remove_space = lambda s: \" \".join(\"\".join(\" \" if c in string.whitespace else c for c in s).strip(' ').split())\n",
    "stem = lambda s: stemmer.stem(s.lower())\n",
    "full_clean = lambda s: stem(remove_space(remove_punct(s)))\n",
    "\n",
    "print rrp_posts[0][1]['text']"
   ]
  },
  {
   "cell_type": "code",
   "execution_count": null,
   "metadata": {},
   "outputs": [],
   "source": [
    "from nltk.stem.snowball import SnowballStemmer\n",
    "stemmer = SnowballStemmer(\"russian\")\n",
    "komi_put = [ stemmer.stem(i['text']) for i in komi_comments if u'путин' in stemmer.stem(i['text']) ]\n"
   ]
  },
  {
   "cell_type": "code",
   "execution_count": null,
   "metadata": {},
   "outputs": [],
   "source": [
    "print komi_put[5].split()[1]"
   ]
  },
  {
   "cell_type": "code",
   "execution_count": null,
   "metadata": {},
   "outputs": [],
   "source": [
    "\n",
    "\n",
    "import concurrent.futures\n",
    "def getWall(id,api):\n",
    "    return api('wall.get', owner_id=id,count=100)\n",
    "    \n",
    "def getWallsIds(ids):\n",
    "    wals = []\n",
    "    not_resp_ids = []\n",
    "    api = vk.API(access_token=token)\n",
    "    with concurrent.futures.ThreadPoolExecutor(max_workers=5) as executor:\n",
    "        # Start the load operations and mark each future with its URL\n",
    "        future_to_url = {executor.submit(getWall, id,api): id for id in ids}\n",
    "        for future in concurrent.futures.as_completed(future_to_url):\n",
    "            eid = future_to_url[future]\n",
    "            try:\n",
    "                data = future.result()\n",
    "            except Exception as exc:\n",
    "                not_resp_ids += [eid]\n",
    "            else:\n",
    "                wals += [data]\n",
    "        return wals,not_resp_ids\n",
    "\n",
    "def getWallsIdsBL(ids):\n",
    "    wals = []\n",
    "    not_resp_ids = []\n",
    "    while len(ids)>0:\n",
    "        time.sleep(2)\n",
    "        wals_,not_resp_ids_=getWallsIds(ids[:9])\n",
    "        wals += wals_\n",
    "        not_resp_ids += not_resp_ids_\n",
    "        ids=ids[9:]\n",
    "        if len(ids)%300==0:\n",
    "            print 2000-len(ids),len(not_resp_ids)\n",
    "    return wals,not_resp_ids"
   ]
  }
 ],
 "metadata": {
  "kernelspec": {
   "display_name": "Python 3",
   "language": "python",
   "name": "python3"
  },
  "language_info": {
   "codemirror_mode": {
    "name": "ipython",
    "version": 3
   },
   "file_extension": ".py",
   "mimetype": "text/x-python",
   "name": "python",
   "nbconvert_exporter": "python",
   "pygments_lexer": "ipython3",
   "version": "3.5.2"
  }
 },
 "nbformat": 4,
 "nbformat_minor": 1
}
