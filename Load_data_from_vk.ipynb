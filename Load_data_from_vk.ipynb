{
 "cells": [
  {
   "cell_type": "code",
   "execution_count": 15,
   "metadata": {
    "collapsed": true
   },
   "outputs": [],
   "source": [
    "#access to api stuff\n",
    "import json\n",
    "import statistics\n",
    "from collections import Counter\n",
    "from load_data_funcs import loadAllCommunityMembers, callApi\n",
    "import random\n",
    "import itertools"
   ]
  },
  {
   "cell_type": "code",
   "execution_count": 16,
   "metadata": {},
   "outputs": [],
   "source": [
    "# load data from uniform distribution in vk users, to model a society\n",
    "def get_uniform_vkids(random_ids_count = 200000):\n",
    "    ids = set()\n",
    "    while len(ids)<random_ids_count:\n",
    "        ids.add(random.randint(1,46800000))\n",
    "    return list(ids)\n",
    "\n",
    "random_ids = get_uniform_vkids()\n",
    "\n",
    "rand_users_info = loadAllCommunityMembers(\"random\", user_ids = random_ids, load_groups_intersections = False)"
   ]
  },
  {
   "cell_type": "code",
   "execution_count": 17,
   "metadata": {},
   "outputs": [],
   "source": [
    "teamnavalny_funs_info = loadAllCommunityMembers(\"teamnavalny\")\n",
    "putin_funs_info = loadAllCommunityMembers(\"putin_z\")"
   ]
  },
  {
   "cell_type": "code",
   "execution_count": 18,
   "metadata": {},
   "outputs": [],
   "source": [
    "anatolijsharij_info = loadAllCommunityMembers(\"anatolijsharij\")"
   ]
  },
  {
   "cell_type": "code",
   "execution_count": 19,
   "metadata": {
    "collapsed": true
   },
   "outputs": [],
   "source": [
    "def get_filed(name, users_info, filt = None ):\n",
    "    data = [ name(u) if callable(name) else u[name] \n",
    "                for u in users_info \n",
    "                if ( (not callable(name) and name  in u ) or (callable(name)) ) and (not filt or filt(u) )]\n",
    "    \n",
    "    return data\n",
    "    \n",
    "def normalithe_batches(batches, factor = 1):\n",
    "    total_count = sum(( count for key, count in batches ))\n",
    "    return [ (key,factor*float(count)/total_count) for key, count in batches ]\n",
    "    \n",
    "def normalithe_batches_according_to_gd(batches, gd_batches):\n",
    "    normalized_gd_batches = normalithe_batches(gd_batches)\n",
    "    key_to_prob_gd_batches = dict(normalized_gd_batches)\n",
    "    return normalithe_batches([ (key,prob/key_to_prob_gd_batches[key]) for key, prob in batches ])\n",
    "    \n",
    "    \n",
    "def save_data_into_json(data, name):\n",
    "    with open('./json/{}.js'.format(name), 'w') as f:\n",
    "        json.dump(data,f)   "
   ]
  },
  {
   "cell_type": "code",
   "execution_count": 20,
   "metadata": {
    "collapsed": true
   },
   "outputs": [],
   "source": [
    "AGE_APPER_LIMIT = 50\n",
    "AGE_LOWER_LIMIT = 14\n",
    "def is_POI(uinf):\n",
    "    return uinf['age'] >= AGE_LOWER_LIMIT and uinf['age'] <= AGE_APPER_LIMIT"
   ]
  },
  {
   "cell_type": "code",
   "execution_count": 49,
   "metadata": {
    "scrolled": true
   },
   "outputs": [],
   "source": [
    "def summary_data_for_plotting(user_infos):\n",
    "    data = {}\n",
    "    #Get age data\n",
    "    ages = get_filed('age',user_infos, filt = is_POI )\n",
    "    ages_batches = list(Counter(ages).items())\n",
    "    ages_data = {'mean':statistics.mean(ages),\n",
    "        'median':statistics.median(ages),\n",
    "        'mode':statistics.mode(ages),\n",
    "        'batches':[[\"age\",\"count\"]]+ages_batches}\n",
    "    \n",
    "    data['ages_data'] = ages_data\n",
    "    \n",
    "    #Get cites data\n",
    "    cites = get_filed('city',user_infos)\n",
    "    most_common_cites = Counter(cites).most_common()[:15]\n",
    "    most_common_cites_gd = Counter(get_filed('city',rand_users_info)).most_common()\n",
    "    most_common_cites_normalithed = normalithe_batches_according_to_gd(most_common_cites, most_common_cites_gd)\n",
    "    most_common_cites_rank = [ (key,prob*100) for key, prob in most_common_cites_normalithed ]\n",
    "    cites_data = {'city_count':[[\"city\",\"count\"]]+most_common_cites,\n",
    "           'city_rank':[[\"city\",\"rank\"]]+sorted(most_common_cites_rank, key = lambda x : x[1], reverse=True)}\n",
    "    data['cites_data'] = cites_data\n",
    "\n",
    "    #Get sex information\n",
    "    sexes = Counter(get_filed('sex',user_infos)).most_common()\n",
    "    sexes_ages = get_filed(lambda u: (u['age'],u['sex']),user_infos,\n",
    "                           filt = lambda u: 'age' in u and 'sex' in u and u['age']<AGE_APPER_LIMIT)\n",
    "\n",
    "    male_ages = list(Counter([ age for age,sex in sexes_ages if sex == 'male' ]).items())\n",
    "    female_ages = list(Counter([ age for age,sex in sexes_ages if sex == 'female' ]).items())\n",
    "\n",
    "    sex_data = {'sexes':[[\"sex\",\"count\"]]+sexes,\n",
    "           'male_ages':[[\"age\",\"count\"]]+male_ages,\n",
    "           'female_ages':[[\"age\",\"count\"]]+female_ages}\n",
    "    data['sex_data'] = sex_data\n",
    "\n",
    "    #Group intersection data\n",
    "    groups_batches = Counter()\n",
    "    for groups in ( u['groups_of_interest'] for u in user_infos if 'groups_of_interest' in u ):\n",
    "        groups_batches.update(groups) \n",
    "\n",
    "    groups_normalithe_batches = normalithe_batches(groups_batches.items(),100)\n",
    "    scrennae_to_name = { gu['screen_name']:gu['name'] for gu in callApi('groups.getById',{'group_ids':','.join(groups_batches.keys())})['response'] }\n",
    "\n",
    "    groups_normalithe_batches = [ (scrennae_to_name[key],val) for key,val in groups_normalithe_batches ]\n",
    "    groups_data = {'group_rating':[[\"group\",\"rating\"]]+sorted(groups_normalithe_batches, key = lambda x: x[0])}\n",
    "    data['groups_data'] = groups_data\n",
    "\n",
    "    #Most popular books\n",
    "    books_counter = Counter(itertools.chain.from_iterable(get_filed('books',user_infos))).most_common()[:10]\n",
    "    popular_books = [ name for name, count in books_counter ]\n",
    "    data['popular_books'] = popular_books\n",
    "\n",
    "    #Most popular movies\n",
    "    movies_counter = Counter(filter(lambda x: len(x)>3,itertools.chain.from_iterable(get_filed('movies',user_infos)))).most_common()[:10]\n",
    "    popular_movies = [ name for name, count in movies_counter ]\n",
    "    data['popular_movies'] = popular_movies\n",
    "\n",
    "    #Most popular music\n",
    "    music_counter = Counter(itertools.chain.from_iterable(get_filed('music',user_infos))).most_common()[:10]\n",
    "    popular_music = [ name for name, count in music_counter ]\n",
    "    data['popular_music'] = popular_music\n",
    "\n",
    "    #Most popular tv\n",
    "    tv_counter = Counter(itertools.chain.from_iterable(get_filed('tv',user_infos))).most_common()[:10]\n",
    "    popular_tv = [ name for name, count in tv_counter ]\n",
    "    data['popular_tv'] = popular_tv\n",
    "\n",
    "    #User counter\n",
    "    live_count = len(get_filed(lambda x: 1,user_infos, filt = lambda u: not u['hidden'] and not u['deactivated'] ))\n",
    "    hiden_count = len(get_filed(lambda x: 1,user_infos, filt = lambda u: bool(u['hidden']) and not u['deactivated']))\n",
    "    deactivated_count = len(get_filed(lambda x: 1,user_infos, filt = lambda u: bool(u['deactivated'])))\n",
    "    data['live_persant'] = [['','count']]+[ ['live',live_count/(len(user_infos)+live_count)], ['total', (len(user_infos)-live_count)/(len(user_infos)+live_count)] ]\n",
    "    data['hiden_count'] = [['','count']]+[ ['hiden',hiden_count/(len(user_infos)+hiden_count)], ['total', len(user_infos)/(len(user_infos)+hiden_count)] ] \n",
    "    data['deactivated_count'] = [['','count']]+[ ['deactivated',deactivated_count/(len(user_infos)+deactivated_count)], ['total', len(user_infos)/(len(user_infos)+deactivated_count)] ] \n",
    "    \n",
    "    return data"
   ]
  },
  {
   "cell_type": "code",
   "execution_count": 50,
   "metadata": {},
   "outputs": [],
   "source": [
    "data = summary_data_for_plotting(teamnavalny_funs_info)\n",
    "save_data_into_json(data, 'teamnavalny')"
   ]
  },
  {
   "cell_type": "code",
   "execution_count": 51,
   "metadata": {},
   "outputs": [],
   "source": [
    "data = summary_data_for_plotting(anatolijsharij_info)\n",
    "save_data_into_json(data, 'anatolijsharij')\n"
   ]
  },
  {
   "cell_type": "code",
   "execution_count": 52,
   "metadata": {
    "collapsed": true
   },
   "outputs": [],
   "source": [
    "\n",
    "data = summary_data_for_plotting(putin_funs_info)\n",
    "save_data_into_json(data, 'putin_z')"
   ]
  },
  {
   "cell_type": "code",
   "execution_count": null,
   "metadata": {
    "collapsed": true
   },
   "outputs": [],
   "source": []
  }
 ],
 "metadata": {
  "kernelspec": {
   "display_name": "Python 3",
   "language": "python",
   "name": "python3"
  },
  "language_info": {
   "codemirror_mode": {
    "name": "ipython",
    "version": 3
   },
   "file_extension": ".py",
   "mimetype": "text/x-python",
   "name": "python",
   "nbconvert_exporter": "python",
   "pygments_lexer": "ipython3",
   "version": "3.5.2"
  }
 },
 "nbformat": 4,
 "nbformat_minor": 2
}
